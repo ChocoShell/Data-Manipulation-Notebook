{
 "cells": [
  {
   "cell_type": "markdown",
   "metadata": {},
   "source": [
    "Can a set of weak learners be combined into a strong learner?\n",
    "\n",
    "An ensemble of learners."
   ]
  },
  {
   "cell_type": "markdown",
   "metadata": {},
   "source": [
    "### Ensemble learners\n",
    "- KNN, LinReg, DecisionTree, SVM\n",
    "\n",
    "Query each model by itself, same X into each model and get all the Y's.  If it's classification, have them vote on the right bucket, if regression, take the average.\n",
    "\n",
    "##### Why ensembles?\n",
    "- Lower error\n",
    "- less overfitting: Less Bias. when combined, they fight against eachother\n",
    "- Tastes great"
   ]
  },
  {
   "cell_type": "markdown",
   "metadata": {},
   "source": [
    "### Bootstrap aggregating bagging - We can use the same learning algorithm but train them on different sets of data.\n",
    "\n",
    "Take a bunch of random data points (may be the same) into different bags.\n",
    "\n",
    "- n number of instances\n",
    "- n' number in a bag\n",
    "- m number of bags n' < n 60%\n",
    "\n",
    "m different models: Take the mean for the ensemble"
   ]
  },
  {
   "cell_type": "markdown",
   "metadata": {},
   "source": [
    "### Bagging Example\n",
    "![knnbag](knnbag.png)"
   ]
  },
  {
   "cell_type": "markdown",
   "metadata": {},
   "source": [
    "### Boosting: Ada Boost\n",
    "- Similar to Bagging\n",
    "- Train our data in bags, normally.\n",
    "- Use training data as testing data, but the points with error will be more likely to be chosen.  Test instances, combine both and get the errors, until you keep getting more and more models with less and less error points.\n",
    "\n",
    "More likely to overfit as m increases compared to simple bagging."
   ]
  },
  {
   "cell_type": "markdown",
   "metadata": {},
   "source": [
    "### Boosting and Bagging\n",
    "- wrappers for existing methods\n",
    "- reduces error\n",
    "- reduces overfitting"
   ]
  }
 ],
 "metadata": {
  "kernelspec": {
   "display_name": "Python 2",
   "language": "python",
   "name": "python2"
  },
  "language_info": {
   "codemirror_mode": {
    "name": "ipython",
    "version": 2
   },
   "file_extension": ".py",
   "mimetype": "text/x-python",
   "name": "python",
   "nbconvert_exporter": "python",
   "pygments_lexer": "ipython2",
   "version": "2.7.14"
  }
 },
 "nbformat": 4,
 "nbformat_minor": 2
}
