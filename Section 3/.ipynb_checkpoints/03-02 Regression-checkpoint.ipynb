{
 "cells": [
  {
   "cell_type": "markdown",
   "metadata": {},
   "source": [
    "Supervised Regression Learning\n",
    "\n",
    "Regression = Numerical Model"
   ]
  },
  {
   "cell_type": "markdown",
   "metadata": {},
   "source": [
    "### Parametric Numerical Model\n",
    "Building a model where we represent the model with a number of parameters.\n",
    "\n",
    "Creating a line that fits (y = mx +b) is called linear regression.\n",
    "\n",
    "Our model is described by the two parameters m and b.\n",
    "\n",
    "We can fit a polynomial.\n",
    "\n",
    "$$y = m_2x^2+mx+b$$\n",
    "\n",
    "We can keep going and going."
   ]
  },
  {
   "cell_type": "markdown",
   "metadata": {},
   "source": [
    "### K Nearest Neighbor\n",
    "- Data centric or instance based approach.\n",
    "Find the K nearest neighbors to get the correct number by averaging the outputs."
   ]
  },
  {
   "cell_type": "markdown",
   "metadata": {},
   "source": [
    "### Kernel Regression.\n",
    "\n",
    "- If we repeat the KNN all across the graph, we get a nice curve.\n",
    "- In Kernel regression we do KNN but weigh the points based on closeness.\n",
    "\n",
    "Biased that we have an initial guess.  Unbiased if we have no idea.\n",
    "\n",
    "Parametric is space efficient, hard to retrain with new data.  Training is slow, querying is fast.  Instance based - have to store all data, but new data is easy to add.  Training is fast, querying is slow."
   ]
  },
  {
   "cell_type": "markdown",
   "metadata": {},
   "source": [
    "### Training and testing\n",
    "We need to split up our X data into Training and Testing data.  This is called out of sample testing.\n",
    "\n",
    "X train - Y train, X test - Y test."
   ]
  },
  {
   "cell_type": "markdown",
   "metadata": {},
   "source": [
    "### Learning APIs\n",
    "For Linear Regression:\n",
    "  - learner = LinRegLearner()\n",
    "  - learner.train(Xtrain, Ytrain)\n",
    "  - y = learner.query(Xtest)\n",
    "\n",
    "For KNN:\n",
    "  - learner = KNNLearner(k=3)\n",
    "  - learner.train(Xtrain, Ytrain)\n",
    "  - y = learner.query(Xtest)\n",
    "  "
   ]
  },
  {
   "cell_type": "markdown",
   "metadata": {},
   "source": [
    "### Example for linear regression"
   ]
  },
  {
   "cell_type": "code",
   "execution_count": 1,
   "metadata": {},
   "outputs": [],
   "source": [
    "class LinRegLearner:\n",
    "    def __init__():\n",
    "        pass\n",
    "        \n",
    "    def train(x,y):\n",
    "        self.m, self.b = favorite_linreg(x,y) # from scipy or numpy\n",
    "    \n",
    "    def query(x):\n",
    "        y = self.m * x + self.b\n",
    "        return y"
   ]
  }
 ],
 "metadata": {
  "kernelspec": {
   "display_name": "Python 2",
   "language": "python",
   "name": "python2"
  },
  "language_info": {
   "codemirror_mode": {
    "name": "ipython",
    "version": 2
   },
   "file_extension": ".py",
   "mimetype": "text/x-python",
   "name": "python",
   "nbconvert_exporter": "python",
   "pygments_lexer": "ipython2",
   "version": "2.7.14"
  }
 },
 "nbformat": 4,
 "nbformat_minor": 2
}
