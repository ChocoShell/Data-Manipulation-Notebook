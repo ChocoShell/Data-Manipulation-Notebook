{
 "cells": [
  {
   "cell_type": "markdown",
   "metadata": {},
   "source": [
    "The focus is on creating a model to get future prices of stocks or assets.\n",
    "\n",
    "Machine Learning lets us use a data centric way to create the model."
   ]
  },
  {
   "cell_type": "markdown",
   "metadata": {},
   "source": [
    "### The ML Problem\n",
    "\n",
    "Machine Learning creates a model.\n",
    "\n",
    "Model takes in x and spits out y.\n",
    "\n",
    "X might be the features of stocks, y might be the future prices.\n",
    "\n",
    "X can be multi dimensional.\n",
    "\n",
    "Y is usually single dimension.\n",
    "\n",
    "ML process is take data through ML to create a model."
   ]
  },
  {
   "cell_type": "markdown",
   "metadata": {},
   "source": [
    "### Supervised Regression Learning\n",
    "- Regression: We're trying to make a numerical approximation or prediction.  Classification means they put it in a bucket.\n",
    "- Supervised: We provide X and the right answer Y\n",
    "- Learning: Train with data.\n",
    "\n",
    "Algorithms for SRL:\n",
    "- Linear Regression (finds parameters parametric) we throw away data after made model (parametric)\n",
    "- k nearest neighbor (KNN) (instance based) we always use data (instance)\n",
    "- decision trees\n",
    "- decision forests (many decision trees)"
   ]
  },
  {
   "cell_type": "markdown",
   "metadata": {},
   "source": [
    "### Robot Navigation Example\n",
    "- Input: Sensor in front of it.  In which directions are there obstacles. What is the direction to the goal?\n",
    "- Output: Which direction to steer."
   ]
  },
  {
   "cell_type": "markdown",
   "metadata": {},
   "source": [
    "### How it works with Stock Data\n",
    "\n",
    "- Get Historical data with multiple features (IBM, GOOG)\n",
    "What is our y? Historical price"
   ]
  },
  {
   "cell_type": "markdown",
   "metadata": {},
   "source": [
    "### Example at a fintech company\n",
    "- Select factors (Xs) Bollinger bands p/e ratio\n",
    "- Select Y, usually change in price/ future price.\n",
    "- Time period, stock universe"
   ]
  },
  {
   "cell_type": "markdown",
   "metadata": {},
   "source": [
    "### Price forecasting demo\n",
    "\n",
    "Quantdesk lets you run models on past data"
   ]
  },
  {
   "cell_type": "markdown",
   "metadata": {},
   "source": [
    "### Backtesting\n",
    "\"Do these predictions work?\" We use backtesting to see."
   ]
  },
  {
   "cell_type": "markdown",
   "metadata": {},
   "source": [
    "### ML tool in use\n",
    "More QuantDesk showing.\n",
    "![quant](quantdesk.png)"
   ]
  },
  {
   "cell_type": "markdown",
   "metadata": {},
   "source": [
    "### Problems with regression\n",
    "- noisy and uncertain\n",
    "- challenging to estimate confidence\n",
    "- holding time, allocation\n",
    "\n",
    "Some of these issues can be fixed with Reinforcement learning.  Policy Learning RL."
   ]
  },
  {
   "cell_type": "markdown",
   "metadata": {},
   "source": [
    "### Problem we will focus on\n",
    "\n",
    "2009 to 2010 is the data we will use.  Then we will test on 2010 to 2011.\n",
    "\n",
    "Our model will generate orders.txt."
   ]
  }
 ],
 "metadata": {
  "kernelspec": {
   "display_name": "Python 2",
   "language": "python",
   "name": "python2"
  },
  "language_info": {
   "codemirror_mode": {
    "name": "ipython",
    "version": 2
   },
   "file_extension": ".py",
   "mimetype": "text/x-python",
   "name": "python",
   "nbconvert_exporter": "python",
   "pygments_lexer": "ipython2",
   "version": "2.7.14"
  }
 },
 "nbformat": 4,
 "nbformat_minor": 2
}
