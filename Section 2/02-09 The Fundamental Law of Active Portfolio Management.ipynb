{
 "cells": [
  {
   "cell_type": "markdown",
   "metadata": {},
   "source": [
    "## Why diversification is only neccessary when they don't know what they are doing."
   ]
  },
  {
   "cell_type": "markdown",
   "metadata": {},
   "source": [
    "### Grinold's Fundamental Law\n",
    "Richard Grinold wanted a method to relate perfomance skill and breadth\n",
    "- performance\n",
    "- Skill: You can pick stocks well\n",
    "- Breadth: How many opportunities you have to buy\n",
    "\n",
    "$$performance = skill \\cdot \\sqrt{breadth}$$\n",
    "$$Information ratio= Information Coefficient \\cdot \\sqrt{BR}$$ Sharpe ratio of excess returns, how much you beat the market"
   ]
  },
  {
   "cell_type": "markdown",
   "metadata": {},
   "source": [
    "### The Coin Flipping Casino"
   ]
  },
  {
   "cell_type": "markdown",
   "metadata": {},
   "source": [
    "- Flip coins instead of stocks\n",
    "- The coin is biased-like $\\alpha$ 0.51 heads\n",
    "- Uncertainty is like $\\beta$\n",
    "\n",
    "##### Betting\n",
    "Bet N coins\n",
    "- Win: now have 2 x N\n",
    "- Lose: now have 0\n",
    "\n",
    "\n",
    "##### Casino\n",
    "- 1000 tables\n",
    "- 1000 tokens\n",
    "- game runs in parallel\n",
    "\n",
    "Expected return is the same but flipping 1000x is less risky"
   ]
  },
  {
   "cell_type": "markdown",
   "metadata": {},
   "source": [
    "### Coin Flip Casino: Reward\n",
    "- expected return\n",
    "- $single bet = 0.51 \\cdot 1000 + 0.49 \\cdot -1000 = \\$20$\n",
    "- $multi bet = 1000\\cdot(0.51 \\cdot 1 + 0.49 \\cdot -1 = \\$20)$\n"
   ]
  },
  {
   "cell_type": "markdown",
   "metadata": {},
   "source": [
    "### Coin Flip Casino: Risk 1"
   ]
  },
  {
   "cell_type": "markdown",
   "metadata": {},
   "source": [
    "- Lose it all: What is the chance you lose it all?\n",
    "- Single bet: 0.49\n",
    "- Multi bet: $0.49^{1000}$"
   ]
  },
  {
   "cell_type": "markdown",
   "metadata": {},
   "source": [
    "### Coin Flip Casino: Risk 2\n",
    "- Standard Deviation of individual bets\n",
    "- One token per table\n",
    "        - -1, 1, 1,...-1 std = 1.0\n",
    "- One table\n",
    "    - 1000, 0, 0, 0, ... 0 = 31.62"
   ]
  },
  {
   "cell_type": "markdown",
   "metadata": {},
   "source": [
    "### Coin Flip Casino: Reward/Risk - Sharpe Ratio\n",
    "- Single bet case \\$20/31.62 = 0.63\n",
    "- Multi Bet case \\$20/1 = 20"
   ]
  },
  {
   "cell_type": "markdown",
   "metadata": {},
   "source": [
    "### Coin Flip Casino Observations\n",
    "$$ SR_{multi} = SR_{single} \\cdot \\sqrt{numofbets} $$\n",
    "$$ 20 = .63 \\cdot \\sqrt{1000} $$\n",
    "$$perfomance = skill \\cdot \\sqrt{breadth}$$"
   ]
  },
  {
   "cell_type": "markdown",
   "metadata": {},
   "source": [
    "### Coin Flip Casino: Lessons\n",
    "- higher alpha = higher sharpe ratio\n",
    "- more execution opportunities = higher sharpe ratio\n",
    "- sharpe ratio increase as the square root of breadth."
   ]
  },
  {
   "cell_type": "markdown",
   "metadata": {},
   "source": [
    "### Back to the real world - similar performance\n",
    "- RenTec trades 100k/day (100k funds a day)\n",
    "- Warren Buffet holds 120 stocks (just holds)\n",
    "\n",
    "Related by the fundamental law of active portfolio management"
   ]
  },
  {
   "cell_type": "markdown",
   "metadata": {},
   "source": [
    "#### IR, IC, and Breadth\n",
    "- IR, Information Ratio\n",
    "$$r_p(t) = \\beta_p \\cdot r_m(t) + \\alpha_p(t)$$\n",
    "$$ = market + skill $$\n",
    "$$IR = \\frac{mean(\\alpha_p(t))}{stdev(\\alpha_p(t))}$$\n",
    "\n",
    "Information Ratio is a measure of Sharpe Ratio of excess return."
   ]
  },
  {
   "cell_type": "markdown",
   "metadata": {},
   "source": [
    "### IR, IC, and Breadth continued\n",
    "- IC, Information Coefficient correlation of forecasts to returns\n",
    "- BR, Breadth number of trading opportunities per year (120 for buffet, 100k \\*365 for RenTec)"
   ]
  },
  {
   "cell_type": "markdown",
   "metadata": {},
   "source": [
    "### The Fundamental Law\n",
    "$$IR = IC \\cdot \\sqrt{BR}$$ Grinold and Kahn Book\n",
    "$$perf = skill \\cdot \\sqrt{BR}$$\n",
    "\n",
    "It's a lot easier to raise breadth than skill."
   ]
  },
  {
   "cell_type": "markdown",
   "metadata": {},
   "source": [
    "### Simons vs Buffet\n",
    "- Assume same IR\n",
    "- Simons' algo is 1/1000 as smart as buffet\n",
    "- Buffet trades 120/year\n",
    "\n",
    "How many trades must simon execute?\n",
    "\n",
    "$$IC \\cdot \\sqrt{BR} = IC \\cdot \\sqrt{BR}$$\n",
    "$$1 \\cdot \\sqrt{BR} = 1000 \\cdot \\sqrt{120}$$\n",
    "$$BR = (1000 \\cdot \\sqrt{120})^2$$\n",
    "$$120,000,000 = (1000 \\cdot \\sqrt{120})^2 $$"
   ]
  }
 ],
 "metadata": {
  "kernelspec": {
   "display_name": "Python 2",
   "language": "python",
   "name": "python2"
  },
  "language_info": {
   "codemirror_mode": {
    "name": "ipython",
    "version": 2
   },
   "file_extension": ".py",
   "mimetype": "text/x-python",
   "name": "python",
   "nbconvert_exporter": "python",
   "pygments_lexer": "ipython2",
   "version": "2.7.14"
  }
 },
 "nbformat": 4,
 "nbformat_minor": 2
}
