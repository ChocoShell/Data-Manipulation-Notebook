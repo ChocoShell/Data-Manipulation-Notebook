{
 "cells": [
  {
   "cell_type": "markdown",
   "metadata": {},
   "source": [
    "# Given a set of equities and target return. Find an alocation that minimizes risk."
   ]
  },
  {
   "cell_type": "markdown",
   "metadata": {},
   "source": [
    "### What is risk?\n",
    "Volatility is risk or stdev of historical daily returns"
   ]
  },
  {
   "cell_type": "markdown",
   "metadata": {},
   "source": [
    "### Visualizing return vs risk\n",
    "Combine all the returns and risks of each stock with weights."
   ]
  },
  {
   "cell_type": "markdown",
   "metadata": {},
   "source": [
    "### Can we do better?\n",
    "\n",
    "Harry Markowitz.  Before him, people thought bonds were lowest risk.  He showed blend of stocks and bonds is lower risk."
   ]
  },
  {
   "cell_type": "markdown",
   "metadata": {},
   "source": [
    "### Why covariance matters\n",
    "\n",
    "![covariance](covariance.png)\n",
    "\n",
    "-.9 and .9 covariance\n",
    "\n",
    "Blending 50% of GHI and 25% of the other two reduces volatility of entire portfolio."
   ]
  },
  {
   "cell_type": "markdown",
   "metadata": {},
   "source": [
    "### Mean Variance Optimization\n",
    "Anticorrelation in the short term, correlation in the long term.\n",
    "\n",
    "##### Inputs for each stock for MVO\n",
    "- Expected Return\n",
    "- Volatility\n",
    "- Covariance: Correlation from each asset to eachother asset for daily returns\n",
    "- Target Return: min - min return asset, max - max return asset.  Anything in between.\n",
    "\n",
    "##### Output\n",
    "- Asset weights for portfolio that minimize risk"
   ]
  },
  {
   "cell_type": "markdown",
   "metadata": {},
   "source": [
    "### The Efficient Frontier\n",
    "![frontier](frontier.png)\n",
    "\n",
    "Cut off anything below orange line\n",
    "\n",
    "Tangent line from origin to frontier is the max sharpe ratio of portfolio.\n",
    "\n",
    "![maxsharpe](maxsharpe.png)"
   ]
  }
 ],
 "metadata": {
  "kernelspec": {
   "display_name": "Python 2",
   "language": "python",
   "name": "python2"
  },
  "language_info": {
   "codemirror_mode": {
    "name": "ipython",
    "version": 2
   },
   "file_extension": ".py",
   "mimetype": "text/x-python",
   "name": "python",
   "nbconvert_exporter": "python",
   "pygments_lexer": "ipython2",
   "version": "2.7.14"
  }
 },
 "nbformat": 4,
 "nbformat_minor": 2
}
