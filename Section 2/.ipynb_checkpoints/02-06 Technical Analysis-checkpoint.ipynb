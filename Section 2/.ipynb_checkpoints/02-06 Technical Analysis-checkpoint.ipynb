{
 "cells": [
  {
   "cell_type": "markdown",
   "metadata": {},
   "source": [
    "### Tehcnical vs Fundamental Analysis\n",
    "\n",
    "Fundamental Analysis looks at aspects of the company to estimate it's value.  Trying to see if the price is lower than the value.\n",
    "\n",
    "Technical Analysis checks for trends in the stock's price."
   ]
  },
  {
   "cell_type": "markdown",
   "metadata": {},
   "source": [
    "### Characteristics\n",
    "##### What is it?\n",
    "- historical price and volume only\n",
    "- compute statistics called indicators: indicators may hint buy or sell.\n",
    "    - used more for trading and not investing\n",
    "- indicators are heuristics\n",
    "\n",
    "##### why it might work\n",
    "- there is information in price\n",
    "- heuristics work in other fields of AI, so it should work here."
   ]
  },
  {
   "cell_type": "markdown",
   "metadata": {},
   "source": [
    "### Fundamental or Technical\n",
    "- Moving average of price T\n",
    "- % change in volume T\n",
    "- price/earnings ratio F\n",
    "- intrinsic value F"
   ]
  },
  {
   "cell_type": "markdown",
   "metadata": {},
   "source": [
    "### When is Technical Analysis Valuable?\n",
    "- Individuals indicators by themselves are weak\n",
    "- Combinations stronger (3-5+)\n",
    "- Look for contrasts (stock vs market) Stocks that are acting very differently than market.\n",
    "- Shorter time periods.  TA will do better over the short term."
   ]
  },
  {
   "cell_type": "markdown",
   "metadata": {},
   "source": [
    "### When is Technical Analysis Valuable? (part 2)\n",
    "Trading Horizon - Time when you buy a stock then sell it.\n",
    "\n",
    "Fundamental factors don't affect the price millisecond to millisecond, but it does over years.\n",
    "\n",
    "Technical factors don't affect the price years in the future, but millisecond to millisecond.\n",
    "\n",
    "Decision complexity increases as we go further in time.\n",
    "\n",
    "Decision speed decreases as we increase time.\n",
    "\n",
    "Computers excel at technical analysis."
   ]
  },
  {
   "cell_type": "markdown",
   "metadata": {},
   "source": [
    "### A few indicators: Momentum\n",
    "Check the slopes of a chart.  If momentum is positive, they buy since it may still go up and vice versa.\n",
    "\n",
    "momentum(t) = price(t)/price(t-n) - 1 over a course of n days.\n",
    "\n",
    "Range of -.5 to .5"
   ]
  },
  {
   "cell_type": "markdown",
   "metadata": {},
   "source": [
    "### A Few Indicators: Simple Moving Averge\n",
    "Take the SMA of a chart for a number of days (20, 50, 100).\n",
    "\n",
    "If a stock crosses the SMA line, it may be a point of interest.\n",
    "\n",
    "Strong momentum + SMA may be a good signal.\n",
    "\n",
    "SMA may be the proxy for value.\n",
    "\n",
    "SMA(t) = price(t)/price(t-n:t).mean() - 1\n",
    "\n",
    "Range of -.5 to .5"
   ]
  },
  {
   "cell_type": "markdown",
   "metadata": {},
   "source": [
    "### A few good indicators: Bollinger Bands\n",
    "For low vol, you want a smaller trigger, vice versa.\n",
    "\n",
    "Create bands on the SMA that are 2 std away.\n",
    "\n",
    "When it is outside then goes into a band, that may means sell.\n",
    "\n",
    "BB(t) = (price(t) - SMA(t))/(2 * std(t))\n",
    "\n",
    "range of -1 to 1"
   ]
  },
  {
   "cell_type": "markdown",
   "metadata": {},
   "source": [
    "![bollingerquiz](bollingerquiz.png)"
   ]
  },
  {
   "cell_type": "markdown",
   "metadata": {},
   "source": [
    "### Normalization\n",
    "Because BB is so much bigger, you must normalize them so they all fit -1 to 1.\n",
    "\n",
    "normed = (values - mean)/values.std()"
   ]
  },
  {
   "cell_type": "markdown",
   "metadata": {},
   "source": [
    "### Wrap up\n",
    "Technical Indicators are heuristics that may show you future value.\n",
    "\n",
    "Don't start trading yet."
   ]
  }
 ],
 "metadata": {
  "kernelspec": {
   "display_name": "Python 2",
   "language": "python",
   "name": "python2"
  },
  "language_info": {
   "codemirror_mode": {
    "name": "ipython",
    "version": 2
   },
   "file_extension": ".py",
   "mimetype": "text/x-python",
   "name": "python",
   "nbconvert_exporter": "python",
   "pygments_lexer": "ipython2",
   "version": "2.7.14"
  }
 },
 "nbformat": 4,
 "nbformat_minor": 2
}
