{
 "cells": [
  {
   "cell_type": "markdown",
   "metadata": {},
   "source": [
    "### Lesson Overview\n",
    "We will work on historical price and volume data."
   ]
  },
  {
   "cell_type": "markdown",
   "metadata": {},
   "source": [
    "### How data is aggregated\n",
    "A tick is a scucessful transaction or buy/sell match.\n",
    "\n",
    "Tick data is consolidated in minute by minute or hour by hour chunks.\n",
    "\n",
    "All the trades that happen between these times occur between a minute interval.\n",
    "\n",
    "You determine the open, high, low, close, volume for each period.\n",
    "\n",
    "This course will use daily data."
   ]
  },
  {
   "cell_type": "markdown",
   "metadata": {},
   "source": [
    "### Price Anomaly\n",
    "Stock splits can cause stocks to drop 75% in value."
   ]
  },
  {
   "cell_type": "markdown",
   "metadata": {},
   "source": [
    "#### Stock Splits\n",
    "Stocks usually split stocks when the price is too high.\n",
    "\n",
    "People usualyl buy 100 shares of stocks at a time, making their options more expensive.\n",
    "\n",
    "Solution: Adjusted close fixes this.\n",
    "Go backwards in time and divide by stock split ratios multiple times."
   ]
  },
  {
   "cell_type": "markdown",
   "metadata": {},
   "source": [
    "### Dividends\n",
    "Stock price will rise before dividend, then it will fall back to original price."
   ]
  },
  {
   "cell_type": "markdown",
   "metadata": {},
   "source": [
    "### Adjusting for dividends\n",
    "Adjust the price by the dividend percent."
   ]
  },
  {
   "cell_type": "markdown",
   "metadata": {},
   "source": [
    "### Survivor bias\n",
    "We are choosing stocks that still exist when backtesting.\n",
    "68 stocks in the SPY died in '08"
   ]
  }
 ],
 "metadata": {
  "kernelspec": {
   "display_name": "Python 2",
   "language": "python",
   "name": "python2"
  },
  "language_info": {
   "codemirror_mode": {
    "name": "ipython",
    "version": 2
   },
   "file_extension": ".py",
   "mimetype": "text/x-python",
   "name": "python",
   "nbconvert_exporter": "python",
   "pygments_lexer": "ipython2",
   "version": "2.7.14"
  }
 },
 "nbformat": 4,
 "nbformat_minor": 2
}
