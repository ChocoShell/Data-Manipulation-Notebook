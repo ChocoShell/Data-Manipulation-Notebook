{
 "cells": [
  {
   "cell_type": "markdown",
   "metadata": {},
   "source": [
    "## MC2: Computational Investing"
   ]
  },
  {
   "cell_type": "markdown",
   "metadata": {},
   "source": [
    "### Lessons: In this mini-course, we focus on modeling the behavior of stock markets.\n",
    "\n",
    "    1. So you want to be a hedge fund manager?\n",
    "    2. Market mechanics\n",
    "    3. What is a company worth?\n",
    "    4. The Capital Assets Pricing Model (CAPM)\n",
    "    5. How hedge funds use the CAPM\n",
    "    6. Technical Analysis\n",
    "    7. Dealing with data\n",
    "    8. Efficient Markets Hypothesis\n",
    "    9. The Fundamental Law of active portfolio management\n",
    "    10. Portfolio optimization and the efficient frontier"
   ]
  },
  {
   "cell_type": "markdown",
   "metadata": {},
   "source": [
    "### Projects:\n",
    "\n",
    "    1. Build a market simulator\n",
    "    2. Invent your own technical indicator\n",
    "    3. Write a strategy that generates orders"
   ]
  },
  {
   "cell_type": "markdown",
   "metadata": {},
   "source": [
    "## Types of Funds"
   ]
  },
  {
   "cell_type": "markdown",
   "metadata": {},
   "source": [
    "### ETF(Exchange Traded Funds)"
   ]
  },
  {
   "cell_type": "markdown",
   "metadata": {},
   "source": [
    "- You can buy and sell like stocks\n",
    "- Basket of stocks\n",
    "- Transparent"
   ]
  },
  {
   "cell_type": "markdown",
   "metadata": {},
   "source": [
    "### Mutual Funds"
   ]
  },
  {
   "cell_type": "markdown",
   "metadata": {},
   "source": [
    "- Buy and Sell at end of day\n",
    "- Quarterly Disclosure: Don't disclose everyday\n",
    "- Less transparent"
   ]
  },
  {
   "cell_type": "markdown",
   "metadata": {},
   "source": [
    "### Hedge Fund"
   ]
  },
  {
   "cell_type": "markdown",
   "metadata": {},
   "source": [
    "- Buy/Sell by agreement\n",
    "- No disclosure\n",
    "- Not transparent"
   ]
  },
  {
   "cell_type": "markdown",
   "metadata": {},
   "source": [
    "#### Definitions"
   ]
  },
  {
   "cell_type": "markdown",
   "metadata": {},
   "source": [
    "- Liquid: Ease of which you can buy or sell in a particular holding. Higher Volume = More Liquid\n",
    "- Large Cap = # of shares x price > millions of dollars\n",
    "- Assets Under Management(AUM) - How much money is being managed by the fund?"
   ]
  },
  {
   "cell_type": "markdown",
   "metadata": {},
   "source": [
    "Common Practice for Mutual funds to have 5 letter tickers and ETFs have 4"
   ]
  },
  {
   "cell_type": "markdown",
   "metadata": {},
   "source": [
    "## Incentives: How are they compensated?"
   ]
  },
  {
   "cell_type": "markdown",
   "metadata": {},
   "source": [
    "|              | Expense Ratio    | \n",
    "|--------------|------------------|\n",
    "| ETFs         | 0.01% - 1.00%    |\n",
    "| Mutual Funds | 0.5% - 3.00%     |\n",
    "| Hedge Funds  | \"Two and Twenty\" |"
   ]
  },
  {
   "cell_type": "markdown",
   "metadata": {},
   "source": [
    "Hedge Fund: Two and Twenty = 2% Expense Fee and 20% of the Profit"
   ]
  },
  {
   "cell_type": "markdown",
   "metadata": {},
   "source": [
    "### Two and Twenty"
   ]
  },
  {
   "cell_type": "markdown",
   "metadata": {},
   "source": [
    "Lets say you have \\$100M and it grew to $115M.\n",
    "\n",
    "\"Two\" = \\$100M x 0.02 = \\$2M\n",
    "\n",
    "\"Twenty\" = \\$15M x 0.02 = \\$3M\n",
    "\n",
    "Total = \\$5M"
   ]
  },
  {
   "cell_type": "markdown",
   "metadata": {},
   "source": [
    "\"Two and Twenty\" motivates getting profits and risk taking.\n",
    "\n",
    "Accumulating assets motivates expsense ratio and \"Two and Twenty\"."
   ]
  },
  {
   "cell_type": "markdown",
   "metadata": {},
   "source": [
    "### How funds attract investors"
   ]
  },
  {
   "cell_type": "markdown",
   "metadata": {},
   "source": [
    "#### Who?"
   ]
  },
  {
   "cell_type": "markdown",
   "metadata": {},
   "source": [
    "- Individuals: Hedge funds usually only have 100 investors\n",
    "- Institutions: Large retirement funds. University Foundations.\n",
    "- Funds of funds: Group together funds of many individuals and institutions to be able to go into several hedge funds"
   ]
  },
  {
   "cell_type": "markdown",
   "metadata": {},
   "source": [
    "### Why?"
   ]
  },
  {
   "cell_type": "markdown",
   "metadata": {},
   "source": [
    "- Track Record: People usually want to see 5 years of good progress\n",
    "- Simulation + Story: Simulate or backtet your strategy.  Good for new hedge funds.\n",
    "- Good Portfolio Fit: Is yours for large cap S&P 500 stocks but they have that already? They may not go for it."
   ]
  },
  {
   "cell_type": "markdown",
   "metadata": {},
   "source": [
    "### Hedge fund goals and metrics"
   ]
  },
  {
   "cell_type": "markdown",
   "metadata": {},
   "source": [
    "#### Goals"
   ]
  },
  {
   "cell_type": "markdown",
   "metadata": {},
   "source": [
    "- Beat a Benchmark (like the SP500)\n",
    "- Absolute Return (Long/Short) slow gradual returns no matter what.  Low losses when market tanks.\n",
    "\n",
    "The Benchmark you choose should reflect your experience.\n",
    "i.e., Choose an index in tech and try to beat that."
   ]
  },
  {
   "cell_type": "markdown",
   "metadata": {},
   "source": [
    "#### Metrics"
   ]
  },
  {
   "cell_type": "markdown",
   "metadata": {},
   "source": [
    "- Cumulative Return: Total Gain from start to finish.\n",
    "- Volatility: daily_retuns.std()\n",
    "- Risk/Reward: Sharpe Ratio\n",
    "    $$\\sqrt{252} * \\frac{mean(daily\\_rets - risk\\_free\\_rate)}{daily\\_rets.std()}$$"
   ]
  },
  {
   "cell_type": "markdown",
   "metadata": {},
   "source": [
    "### The Computing Inside A Hedge Fund"
   ]
  },
  {
   "cell_type": "markdown",
   "metadata": {},
   "source": [
    "![Hedge Fund](hedgefund.png)"
   ]
  },
  {
   "cell_type": "markdown",
   "metadata": {},
   "source": [
    "There is a target portfolio.  Deciding the allocations.\n",
    "\n",
    "It wants the live portfolio to match the target portfolio so it sends orders.\n",
    "\n",
    "You do not want to do it all at once because it may affect the price for very large orders."
   ]
  },
  {
   "cell_type": "markdown",
   "metadata": {},
   "source": [
    "#### How do we get the target portfolio?"
   ]
  },
  {
   "cell_type": "markdown",
   "metadata": {},
   "source": [
    " ![Target Portfolio](targetportfolio.PNG)"
   ]
  },
  {
   "cell_type": "markdown",
   "metadata": {},
   "source": [
    "From machine learning, we have a forecast of what stocks will be later.\n",
    "\n",
    "We may want to increase our holdings in BAC and decrease them in AAPL.\n",
    "\n",
    "Historical data may tell us how stocks are correlated.\n",
    "\n",
    "Our Current Portfolio also is fed into the portfolio optimizer to make sure there are no penalities in dropping out."
   ]
  },
  {
   "cell_type": "markdown",
   "metadata": {},
   "source": [
    "#### Getting Forecasts"
   ]
  },
  {
   "cell_type": "markdown",
   "metadata": {},
   "source": [
    " ![Forecasting](forecast.PNG)"
   ]
  },
  {
   "cell_type": "markdown",
   "metadata": {},
   "source": [
    "We feed in recent information and historical data into the forecasting algorithm to get our forecast."
   ]
  }
 ],
 "metadata": {
  "kernelspec": {
   "display_name": "Python 2",
   "language": "python",
   "name": "python2"
  },
  "language_info": {
   "codemirror_mode": {
    "name": "ipython",
    "version": 2
   },
   "file_extension": ".py",
   "mimetype": "text/x-python",
   "name": "python",
   "nbconvert_exporter": "python",
   "pygments_lexer": "ipython2",
   "version": "2.7.14"
  }
 },
 "nbformat": 4,
 "nbformat_minor": 2
}
