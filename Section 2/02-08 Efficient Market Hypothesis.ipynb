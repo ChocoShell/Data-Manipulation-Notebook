{
 "cells": [
  {
   "cell_type": "markdown",
   "metadata": {},
   "source": [
    "### EMH Assumptions\n",
    "- Large number of investors interacting in the market for profit\n",
    "- New information arrives randomly\n",
    "- Prices adjust quickly\n",
    "- Current prices reflect all available information"
   ]
  },
  {
   "cell_type": "markdown",
   "metadata": {},
   "source": [
    "### Origin of information\n",
    "##### Where does information come from? From most public to least\n",
    "- Price/Volume\n",
    "- Fundamental data\n",
    "- Exogenous: Information about the world that affects the company, like the price of oil for airline companies.\n",
    "- Company Insiders"
   ]
  },
  {
   "cell_type": "markdown",
   "metadata": {},
   "source": [
    "### 3 forms of the EMH (weak to strong)\n",
    "- Weak: Future prices cannot be predicted by analyzing historical prices. Note that this leaves room for fundamental analysis.\n",
    "- semi-strong: Prices adjust rapidly to new public information. Quarterly reports affect the prices of stocks.\n",
    "- Strong: Prices reflect all information public and private even secret information from inside company."
   ]
  },
  {
   "cell_type": "markdown",
   "metadata": {},
   "source": [
    "### The EMH prohibits\n",
    "- Technical: Weak, can't predict prices on past prices.\n",
    "- semi-strong stops technical and fundamental\n",
    "- Strong stops everything including insider trading."
   ]
  },
  {
   "cell_type": "markdown",
   "metadata": {},
   "source": [
    "### Is the EMH correct?\n",
    "If it is, then it is not possible to make money in market.\n",
    "\n",
    "Strong version of the EMH is the least solid.  We see make money from insider trading.\n",
    "\n",
    "Semi-strong low p/e ratios = higher returns usually."
   ]
  }
 ],
 "metadata": {
  "kernelspec": {
   "display_name": "Python 2",
   "language": "python",
   "name": "python2"
  },
  "language_info": {
   "codemirror_mode": {
    "name": "ipython",
    "version": 2
   },
   "file_extension": ".py",
   "mimetype": "text/x-python",
   "name": "python",
   "nbconvert_exporter": "python",
   "pygments_lexer": "ipython2",
   "version": "2.7.14"
  }
 },
 "nbformat": 4,
 "nbformat_minor": 2
}
