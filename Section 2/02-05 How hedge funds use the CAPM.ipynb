{
 "cells": [
  {
   "cell_type": "markdown",
   "metadata": {},
   "source": [
    "Hedge Funds look for stocks that will go up more than the market and down less than the market."
   ]
  },
  {
   "cell_type": "markdown",
   "metadata": {},
   "source": [
    "### Two Stock Scenario\n",
    "- They predict stock A will go 1% over mkt $B_A=1.0$\n",
    "- They predict stock B will go -1% below mkt $B_B=2.0$\n",
    "\n",
    "If we long stock A for \\$50 and short stock B for -\\$50, then...\n",
    "\n",
    "$r_A=0 + \\alpha$ and $r_B=0 + \\alpha$ which are both .5 = \\$50 * 1%"
   ]
  },
  {
   "cell_type": "markdown",
   "metadata": {},
   "source": [
    "$\\beta$ of 2 means that if the market goes up 10%, the stock goes up 2x or 20%."
   ]
  },
  {
   "cell_type": "markdown",
   "metadata": {},
   "source": [
    "### Two Stock CAPM Math\n",
    "\\begin{align}\n",
    "r_p & = \\sum_{i} w_i(\\beta_ir_m + \\alpha_i) \\\\\n",
    "& = (w_A\\beta_A + w_B\\beta_B)r_m + w_A\\alpha_A + w_B\\alpha_B \\\\\n",
    "& = (.5 \\cdot 1 - .5 \\cdot 2)r_m \\\\\n",
    "& = -0.5 \\cdot r_m + 1\\%\n",
    "\\end{align}\n",
    "\n",
    "The 1% comes from our weights and alphas.\n",
    "\n",
    "We want to minize the first term so that $\\beta$ or -.5 = 0.\n",
    "\n",
    "$$\\beta_p = w_A\\beta_A + w_B\\beta_B = 0$$"
   ]
  },
  {
   "cell_type": "markdown",
   "metadata": {},
   "source": [
    "Sum of all absolute value of weights = 1. Shorts are negative weights."
   ]
  },
  {
   "cell_type": "markdown",
   "metadata": {},
   "source": [
    "### How Does it Work?\n",
    "w_A = .66 w_B = -.33 r_m = 10%\n",
    "\n",
    "$$r_p = 0 + .66\\cdot1.0 + -.33\\cdot-1.0$$"
   ]
  },
  {
   "cell_type": "markdown",
   "metadata": {},
   "source": [
    "### CAPM for hedge funds summary\n",
    "\n",
    "Assuming:\n",
    "- Information -> $\\alpha_i$\n",
    "- $\\beta_i$\n",
    "\n",
    "CAPM enables:\n",
    "- minimize market risk $\\beta_p = 0$\n",
    "- Gives us the $w_i$"
   ]
  }
 ],
 "metadata": {
  "kernelspec": {
   "display_name": "Python 2",
   "language": "python",
   "name": "python2"
  },
  "language_info": {
   "codemirror_mode": {
    "name": "ipython",
    "version": 2
   },
   "file_extension": ".py",
   "mimetype": "text/x-python",
   "name": "python",
   "nbconvert_exporter": "python",
   "pygments_lexer": "ipython2",
   "version": "2.7.14"
  }
 },
 "nbformat": 4,
 "nbformat_minor": 2
}
