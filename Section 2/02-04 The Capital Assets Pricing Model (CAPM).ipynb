{
 "cells": [
  {
   "cell_type": "markdown",
   "metadata": {},
   "source": [
    "# The Capital Asset Pricing Model"
   ]
  },
  {
   "cell_type": "markdown",
   "metadata": {},
   "source": [
    "The capm led to index funds and the belief that you can't beat the market."
   ]
  },
  {
   "cell_type": "markdown",
   "metadata": {},
   "source": [
    "### Definition of a Portfolio"
   ]
  },
  {
   "cell_type": "markdown",
   "metadata": {},
   "source": [
    "- A weighted set of assets"
   ]
  },
  {
   "cell_type": "markdown",
   "metadata": {},
   "source": [
    "Portfolio Weights: i = day $$\\sum_{i} |w_i| = 1.0$$"
   ]
  },
  {
   "cell_type": "markdown",
   "metadata": {},
   "source": [
    "Returns: $$r_p(t) = \\sum_{i} w_i * r_i(t)$$"
   ]
  },
  {
   "cell_type": "markdown",
   "metadata": {},
   "source": [
    "### The Market Portfolio"
   ]
  },
  {
   "cell_type": "markdown",
   "metadata": {},
   "source": [
    "- US: SP500 The 500 largest companies traded each day.\n",
    "- UK: FTA\n",
    "- Japan: TOPIX"
   ]
  },
  {
   "cell_type": "markdown",
   "metadata": {},
   "source": [
    "Cap Weighted: Weighted according to their market cap.\n",
    "$$w_i = \\frac{marketcap_i}{\\sum_{j} marketcap_j}$$"
   ]
  },
  {
   "cell_type": "markdown",
   "metadata": {},
   "source": [
    "### The CAPM Equation"
   ]
  },
  {
   "cell_type": "markdown",
   "metadata": {},
   "source": [
    "$$r_i(t) = \\beta_{i} r_m(t) + \\alpha_i(t)$$"
   ]
  },
  {
   "cell_type": "markdown",
   "metadata": {},
   "source": [
    "Return equals return of the market times beta plus alpha.\n",
    "\n",
    "Beta times the return of the market is mostly what affects daily returns."
   ]
  },
  {
   "cell_type": "markdown",
   "metadata": {},
   "source": [
    "CAPM theory states that alpha is very small compared to the other term."
   ]
  },
  {
   "cell_type": "markdown",
   "metadata": {},
   "source": [
    "Plot a scatterplot of XYZ vs SPY to get their relationship.\n",
    "\n",
    "Beta is the slope and alpha is the y intercept."
   ]
  },
  {
   "cell_type": "markdown",
   "metadata": {},
   "source": [
    "### CAPM vs Active Management"
   ]
  },
  {
   "cell_type": "markdown",
   "metadata": {},
   "source": [
    "- passive: buy index and hold\n",
    "- active: pick stocks.  Weights will be different than the market."
   ]
  },
  {
   "cell_type": "markdown",
   "metadata": {},
   "source": [
    "Both active and passive managers agree that Beta x return of the market is correct.\n",
    "\n",
    "They disagree on alpha.  CAPM says random and alpha = 0.\n",
    "\n",
    "Active managers believe they can predict alpha."
   ]
  },
  {
   "cell_type": "markdown",
   "metadata": {},
   "source": [
    "### CAPM for Portfolios"
   ]
  },
  {
   "cell_type": "markdown",
   "metadata": {},
   "source": [
    "return of portfolio: $$r_p(t) = \\sum_{i} w_i * (\\beta_i r_m(t) + \\alpha_i(t))$$\n",
    "\n",
    "CAPM: $$r_p(t) = \\sum_{i} w_i * \\beta_i r_m(t)$$\n",
    "Active: $$r_p(t) = \\sum_{i} w_i * \\beta_i r_m(t) + \\sum_{i} w_i * \\alpha_i(t)$$"
   ]
  },
  {
   "cell_type": "markdown",
   "metadata": {},
   "source": [
    "### Implications of CAPM"
   ]
  },
  {
   "cell_type": "markdown",
   "metadata": {},
   "source": [
    "- Expected value of $\\alpha = 0$\n",
    "- Only way to beat market is choose $\\beta$\n",
    "- Choose high $\\beta$ in up markets\n",
    "- Choose low $\\beta$ in down markets\n",
    "- Efficient markets Hypothesis says you can't predict the market"
   ]
  },
  {
   "cell_type": "markdown",
   "metadata": {},
   "source": [
    "### Arbitrage Pricing Theory (APT)"
   ]
  },
  {
   "cell_type": "markdown",
   "metadata": {},
   "source": [
    "- Stephen Ross 1976"
   ]
  },
  {
   "cell_type": "markdown",
   "metadata": {},
   "source": [
    "Different stocks may be exposed to different elements."
   ]
  },
  {
   "cell_type": "markdown",
   "metadata": {},
   "source": [
    "Not one single $\\beta$.\n",
    "\n",
    "Break $\\beta$ into multiple $\\beta$s."
   ]
  },
  {
   "cell_type": "markdown",
   "metadata": {},
   "source": [
    "##### Arbitrage: In economics and finance, arbitrage is the practice of taking advantage of a price difference between two or more markets"
   ]
  }
 ],
 "metadata": {
  "kernelspec": {
   "display_name": "Python 2",
   "language": "python",
   "name": "python2"
  },
  "language_info": {
   "codemirror_mode": {
    "name": "ipython",
    "version": 2
   },
   "file_extension": ".py",
   "mimetype": "text/x-python",
   "name": "python",
   "nbconvert_exporter": "python",
   "pygments_lexer": "ipython2",
   "version": "2.7.14"
  }
 },
 "nbformat": 4,
 "nbformat_minor": 2
}
